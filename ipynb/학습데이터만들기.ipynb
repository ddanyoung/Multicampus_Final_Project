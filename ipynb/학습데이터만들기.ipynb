{
  "cells": [
    {
      "cell_type": "markdown",
      "metadata": {
        "id": "oR-B1WmJLNNt"
      },
      "source": [
        "# 학습데이터 만들기"
      ]
    },
    {
      "cell_type": "code",
      "execution_count": 1,
      "metadata": {
        "id": "0pTW7naqLNNw"
      },
      "outputs": [],
      "source": [
        "import cv2\n",
        "import mediapipe as mp\n",
        "import numpy as np\n",
        "import matplotlib.pyplot as plt\n",
        "import keyboard\n",
        "import random"
      ]
    },
    {
      "cell_type": "code",
      "execution_count": 2,
      "metadata": {
        "id": "8ha8vDpeLNNx"
      },
      "outputs": [],
      "source": [
        "from moviepy.editor import *\n",
        "video_clip = VideoFileClip('./Aespa_Girls_target.mp4').subclip(0, 79)\n",
        "video_clip2 = VideoFileClip('./Aespa_Girls_user.mp4').subclip(0.5, 79)"
      ]
    },
    {
      "cell_type": "code",
      "execution_count": 3,
      "metadata": {
        "id": "mnWvKP4nLNNx"
      },
      "outputs": [],
      "source": [
        "# 포즈 감지 모델 초기화\n",
        "mp_pose = mp.solutions.pose\n",
        "pose_video = mp_pose.Pose(static_image_mode=True, min_detection_confidence=0.7,\n",
        "                          min_tracking_confidence=0.7)\n",
        "mp_drawing = mp.solutions.drawing_utils"
      ]
    },
    {
      "cell_type": "code",
      "execution_count": 6,
      "metadata": {
        "id": "dWZrKEMXLNNy"
      },
      "outputs": [],
      "source": [
        "# 포즈 검출 함수\n",
        "def detectPose(image_pose, pose, draw=False, display=False):\n",
        "    \n",
        "    original_image = image_pose.copy()\n",
        "    \n",
        "    image_in_RGB = cv2.cvtColor(image_pose, cv2.COLOR_BGR2RGB)\n",
        "    \n",
        "    resultant = pose.process(image_in_RGB)\n",
        "\n",
        "    if resultant.pose_landmarks and draw:    \n",
        "\n",
        "        mp_drawing.draw_landmarks(image=original_image, landmark_list=resultant.pose_landmarks,\n",
        "                                  connections=mp_pose.POSE_CONNECTIONS,\n",
        "                                  landmark_drawing_spec=mp_drawing.DrawingSpec(color=(255,255,255),\n",
        "                                                                               thickness=3, circle_radius=3),\n",
        "                                  connection_drawing_spec=mp_drawing.DrawingSpec(color=(49,125,237),\n",
        "                                                                               thickness=2, circle_radius=2))\n",
        "\n",
        "    if display:\n",
        "            \n",
        "            plt.figure(figsize=[22,22])\n",
        "            plt.subplot(121);plt.imshow(image_pose[:,:,::-1]);plt.title(\"Input Image\");plt.axis('off');\n",
        "            plt.subplot(122);plt.imshow(original_image[:,:,::-1]);plt.title(\"Pose detected Image\");plt.axis('off');\n",
        "\n",
        "    else:\n",
        "        \n",
        "        return original_image, resultant"
      ]
    },
    {
      "cell_type": "code",
      "execution_count": 7,
      "metadata": {
        "id": "G7eEW8wjLNNy"
      },
      "outputs": [],
      "source": [
        "import pandas as pd\n",
        "df = pd.DataFrame()"
      ]
    },
    {
      "cell_type": "code",
      "execution_count": 8,
      "metadata": {
        "id": "iLU0rgMoLNNz"
      },
      "outputs": [],
      "source": [
        "for num, i in enumerate(np.arange(1, 79, 0.1)):\n",
        "   \n",
        "    img = video_clip.get_frame(i)\n",
        "    img2 = video_clip2.get_frame(i)\n",
        "    \n",
        "    _, target_result = detectPose(img, pose_video)\n",
        "    _, user_result = detectPose(img2, pose_video)\n",
        "    \n",
        "    img_target = cv2.resize(img, (0, 0), fx=0.5, fy=0.5, interpolation=cv2.INTER_AREA)\n",
        "    img_user = cv2.resize(img2, (0, 0), fx=0.5, fy=0.5, interpolation=cv2.INTER_AREA)\n",
        "\n",
        "    numpy_vertical = np.vstack((img_target, img_user))\n",
        "    \n",
        "    ver_cv = cv2.cvtColor(numpy_vertical, cv2.COLOR_BGR2RGB)\n",
        "    cv2.imshow(\"target\", ver_cv)\n",
        "    cv2.waitKey()\n",
        "    \n",
        "    try:\n",
        "        if keyboard.is_pressed('0'):            # 두 포즈가 다른 경우\n",
        "            df.loc[num, 'target_lm'] = target_result.pose_world_landmarks.landmark\n",
        "            df.loc[num, 'user_lm'] = target_result.pose_world_landmarks.landmark\n",
        "            df.loc[num, 'label'] = 0\n",
        "            \n",
        "        if keyboard.is_pressed('1'):\n",
        "            df.loc[num, 'target_lm'] = target_result.pose_world_landmarks.landmark\n",
        "            df.loc[num, 'user_lm'] = target_result.pose_world_landmarks.landmark\n",
        "            df.loc[num, 'label'] = 1\n",
        "            \n",
        "        if keyboard.is_pressed('esc'):\n",
        "            break\n",
        "    except:\n",
        "        continue\n",
        "\n",
        "cv2.destroyAllWindows()"
      ]
    },
    {
      "cell_type": "code",
      "execution_count": null,
      "metadata": {
        "id": "DtFtlU06LNN0"
      },
      "outputs": [],
      "source": [
        "pd.concat([df[df['label'] == 1], df.iloc[id, :]]).to_csv(\"train.csv\", index=False)"
      ]
    },
    {
      "cell_type": "code",
      "execution_count": 13,
      "metadata": {},
      "outputs": [],
      "source": [
        "df.to_csv('aespa_girls_train.csv', index=False)"
      ]
    },
    {
      "cell_type": "code",
      "execution_count": 14,
      "metadata": {},
      "outputs": [
        {
          "data": {
            "text/plain": [
              "<function id(obj, /)>"
            ]
          },
          "execution_count": 14,
          "metadata": {},
          "output_type": "execute_result"
        }
      ],
      "source": [
        "id"
      ]
    },
    {
      "cell_type": "code",
      "execution_count": null,
      "metadata": {},
      "outputs": [],
      "source": []
    }
  ],
  "metadata": {
    "colab": {
      "name": "학습데이터 만들기 (1).ipynb",
      "provenance": []
    },
    "kernelspec": {
      "display_name": "Python 3.9.7 ('kdig')",
      "language": "python",
      "name": "python3"
    },
    "language_info": {
      "codemirror_mode": {
        "name": "ipython",
        "version": 3
      },
      "file_extension": ".py",
      "mimetype": "text/x-python",
      "name": "python",
      "nbconvert_exporter": "python",
      "pygments_lexer": "ipython3",
      "version": "3.9.7"
    },
    "orig_nbformat": 4,
    "vscode": {
      "interpreter": {
        "hash": "79235f3c426277640c9689d2572c47b913f40843195eeba115616b689febf123"
      }
    }
  },
  "nbformat": 4,
  "nbformat_minor": 0
}
